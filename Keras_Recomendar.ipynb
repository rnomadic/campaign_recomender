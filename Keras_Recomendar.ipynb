{
 "cells": [
  {
   "cell_type": "markdown",
   "metadata": {},
   "source": [
    "\n",
    "keras-recommender\n",
    "Recommender built using keras\n",
    "\n",
    "The dataset is taken from [ml-latest-small (MovieLens)](https://grouplens.org/datasets/movielens/)"
   ]
  },
  {
   "cell_type": "markdown",
   "metadata": {},
   "source": [
    "### Types of collaborative filtering techniques\n",
    "1. Memory based \n",
    "2. Model based <br>\n",
    "    2.1 Matrix Factorization <br>\n",
    "    2.2 Clustering <br>\n",
    "    2.3 Deep Learning <br>\n",
    "    \n",
    " # ![CF](resources/CF.png)\n",
    " ![CF](CF.png)\n",
    "\n",
    "**Matrix Factorization (MF):** The idea behind such models is that attitudes or preferences of a user can be determined by a small number of hidden factors. We can call these factors as Embeddings.\n",
    "\n",
    "Visualization of matrix factorization\n",
    "\n",
    " # ![CF_MF](resources/CF_MF.png)\n",
    " ![CF_MF](CF_MF.png)\n",
    "**Embeddings:**\n",
    "Intuitively, we can understand embeddings as low dimensional hidden factors for items and users. For e.g. say we have 5 dimensional (i.e. D or n_factors = 5 in above figure) embeddings for both items and users (# 5 chosen randomly). Then for user-X & movie-A, we can say the those 5 numbers might represent 5 different characteristics about the movie, like (i) how much movie-A is sci-fi intense (ii) how recent is the movie (iii) how much special effects are in movie A (iv) how dialogue driven is the movie (v) how CGI driven is the movie. Likewise, 5 numbers in user embedding matrix might represent, (i) how much does user-X like sci-fi movie (ii) how much does user-X like recent movies …and so on. In above figure, a higher number from dot product of user-X and movie-A matrix means that movie-A is a good recommendation for user-X.\n",
    "\n",
    "**Matrix factorization and embeddings**\n",
    "\n",
    "![CF_MF](resources/MF_Embeddings.png)"
   ]
  },
  {
   "cell_type": "code",
   "execution_count": 1,
   "metadata": {},
   "outputs": [],
   "source": [
    "from sklearn.model_selection import train_test_split\n",
    "import pandas as pd\n"
   ]
  },
  {
   "cell_type": "code",
   "execution_count": 2,
   "metadata": {},
   "outputs": [
    {
     "data": {
      "text/html": [
       "<div>\n",
       "<style scoped>\n",
       "    .dataframe tbody tr th:only-of-type {\n",
       "        vertical-align: middle;\n",
       "    }\n",
       "\n",
       "    .dataframe tbody tr th {\n",
       "        vertical-align: top;\n",
       "    }\n",
       "\n",
       "    .dataframe thead th {\n",
       "        text-align: right;\n",
       "    }\n",
       "</style>\n",
       "<table border=\"1\" class=\"dataframe\">\n",
       "  <thead>\n",
       "    <tr style=\"text-align: right;\">\n",
       "      <th></th>\n",
       "      <th>userId</th>\n",
       "      <th>movieId</th>\n",
       "      <th>rating</th>\n",
       "      <th>timestamp</th>\n",
       "    </tr>\n",
       "  </thead>\n",
       "  <tbody>\n",
       "    <tr>\n",
       "      <th>0</th>\n",
       "      <td>1</td>\n",
       "      <td>1</td>\n",
       "      <td>4.0</td>\n",
       "      <td>964982703</td>\n",
       "    </tr>\n",
       "    <tr>\n",
       "      <th>1</th>\n",
       "      <td>1</td>\n",
       "      <td>3</td>\n",
       "      <td>4.0</td>\n",
       "      <td>964981247</td>\n",
       "    </tr>\n",
       "    <tr>\n",
       "      <th>2</th>\n",
       "      <td>1</td>\n",
       "      <td>6</td>\n",
       "      <td>4.0</td>\n",
       "      <td>964982224</td>\n",
       "    </tr>\n",
       "    <tr>\n",
       "      <th>3</th>\n",
       "      <td>1</td>\n",
       "      <td>47</td>\n",
       "      <td>5.0</td>\n",
       "      <td>964983815</td>\n",
       "    </tr>\n",
       "    <tr>\n",
       "      <th>4</th>\n",
       "      <td>1</td>\n",
       "      <td>50</td>\n",
       "      <td>5.0</td>\n",
       "      <td>964982931</td>\n",
       "    </tr>\n",
       "  </tbody>\n",
       "</table>\n",
       "</div>"
      ],
      "text/plain": [
       "   userId  movieId  rating  timestamp\n",
       "0       1        1     4.0  964982703\n",
       "1       1        3     4.0  964981247\n",
       "2       1        6     4.0  964982224\n",
       "3       1       47     5.0  964983815\n",
       "4       1       50     5.0  964982931"
      ]
     },
     "execution_count": 2,
     "metadata": {},
     "output_type": "execute_result"
    }
   ],
   "source": [
    "data_dir_path = 'resources/ml-latest-small'\n",
    "\n",
    "df = pd.read_csv(data_dir_path + '/ratings.csv')\n",
    "df.head()"
   ]
  },
  {
   "cell_type": "code",
   "execution_count": 3,
   "metadata": {},
   "outputs": [],
   "source": [
    "#We assign a unique number between (0, #users) to each user and do the same for movies.\n",
    "df.userId = df.userId.astype('category').cat.codes.values\n",
    "df.movieId = df.movieId.astype('category').cat.codes.values"
   ]
  },
  {
   "cell_type": "code",
   "execution_count": 4,
   "metadata": {},
   "outputs": [
    {
     "data": {
      "text/html": [
       "<div>\n",
       "<style scoped>\n",
       "    .dataframe tbody tr th:only-of-type {\n",
       "        vertical-align: middle;\n",
       "    }\n",
       "\n",
       "    .dataframe tbody tr th {\n",
       "        vertical-align: top;\n",
       "    }\n",
       "\n",
       "    .dataframe thead th {\n",
       "        text-align: right;\n",
       "    }\n",
       "</style>\n",
       "<table border=\"1\" class=\"dataframe\">\n",
       "  <thead>\n",
       "    <tr style=\"text-align: right;\">\n",
       "      <th></th>\n",
       "      <th>userId</th>\n",
       "      <th>movieId</th>\n",
       "      <th>rating</th>\n",
       "      <th>timestamp</th>\n",
       "    </tr>\n",
       "  </thead>\n",
       "  <tbody>\n",
       "    <tr>\n",
       "      <th>0</th>\n",
       "      <td>0</td>\n",
       "      <td>0</td>\n",
       "      <td>4.0</td>\n",
       "      <td>964982703</td>\n",
       "    </tr>\n",
       "    <tr>\n",
       "      <th>1</th>\n",
       "      <td>0</td>\n",
       "      <td>2</td>\n",
       "      <td>4.0</td>\n",
       "      <td>964981247</td>\n",
       "    </tr>\n",
       "    <tr>\n",
       "      <th>2</th>\n",
       "      <td>0</td>\n",
       "      <td>5</td>\n",
       "      <td>4.0</td>\n",
       "      <td>964982224</td>\n",
       "    </tr>\n",
       "    <tr>\n",
       "      <th>3</th>\n",
       "      <td>0</td>\n",
       "      <td>43</td>\n",
       "      <td>5.0</td>\n",
       "      <td>964983815</td>\n",
       "    </tr>\n",
       "    <tr>\n",
       "      <th>4</th>\n",
       "      <td>0</td>\n",
       "      <td>46</td>\n",
       "      <td>5.0</td>\n",
       "      <td>964982931</td>\n",
       "    </tr>\n",
       "  </tbody>\n",
       "</table>\n",
       "</div>"
      ],
      "text/plain": [
       "   userId  movieId  rating  timestamp\n",
       "0       0        0     4.0  964982703\n",
       "1       0        2     4.0  964981247\n",
       "2       0        5     4.0  964982224\n",
       "3       0       43     5.0  964983815\n",
       "4       0       46     5.0  964982931"
      ]
     },
     "execution_count": 4,
     "metadata": {},
     "output_type": "execute_result"
    }
   ],
   "source": [
    "df.head()"
   ]
  },
  {
   "cell_type": "code",
   "execution_count": 5,
   "metadata": {},
   "outputs": [],
   "source": [
    "train, test = train_test_split(df, test_size=0.2, random_state=0)"
   ]
  },
  {
   "cell_type": "code",
   "execution_count": 6,
   "metadata": {},
   "outputs": [
    {
     "data": {
      "text/html": [
       "<div>\n",
       "<style scoped>\n",
       "    .dataframe tbody tr th:only-of-type {\n",
       "        vertical-align: middle;\n",
       "    }\n",
       "\n",
       "    .dataframe tbody tr th {\n",
       "        vertical-align: top;\n",
       "    }\n",
       "\n",
       "    .dataframe thead th {\n",
       "        text-align: right;\n",
       "    }\n",
       "</style>\n",
       "<table border=\"1\" class=\"dataframe\">\n",
       "  <thead>\n",
       "    <tr style=\"text-align: right;\">\n",
       "      <th></th>\n",
       "      <th>userId</th>\n",
       "      <th>movieId</th>\n",
       "      <th>rating</th>\n",
       "      <th>timestamp</th>\n",
       "    </tr>\n",
       "  </thead>\n",
       "  <tbody>\n",
       "    <tr>\n",
       "      <th>77701</th>\n",
       "      <td>482</td>\n",
       "      <td>5213</td>\n",
       "      <td>4.0</td>\n",
       "      <td>1215545278</td>\n",
       "    </tr>\n",
       "    <tr>\n",
       "      <th>94477</th>\n",
       "      <td>598</td>\n",
       "      <td>5879</td>\n",
       "      <td>2.5</td>\n",
       "      <td>1498518389</td>\n",
       "    </tr>\n",
       "    <tr>\n",
       "      <th>36246</th>\n",
       "      <td>246</td>\n",
       "      <td>3814</td>\n",
       "      <td>2.0</td>\n",
       "      <td>1467645405</td>\n",
       "    </tr>\n",
       "    <tr>\n",
       "      <th>17483</th>\n",
       "      <td>110</td>\n",
       "      <td>4900</td>\n",
       "      <td>3.5</td>\n",
       "      <td>1516140853</td>\n",
       "    </tr>\n",
       "    <tr>\n",
       "      <th>100300</th>\n",
       "      <td>609</td>\n",
       "      <td>6651</td>\n",
       "      <td>4.5</td>\n",
       "      <td>1493847901</td>\n",
       "    </tr>\n",
       "  </tbody>\n",
       "</table>\n",
       "</div>"
      ],
      "text/plain": [
       "        userId  movieId  rating   timestamp\n",
       "77701      482     5213     4.0  1215545278\n",
       "94477      598     5879     2.5  1498518389\n",
       "36246      246     3814     2.0  1467645405\n",
       "17483      110     4900     3.5  1516140853\n",
       "100300     609     6651     4.5  1493847901"
      ]
     },
     "execution_count": 6,
     "metadata": {},
     "output_type": "execute_result"
    }
   ],
   "source": [
    "train.head()"
   ]
  },
  {
   "cell_type": "code",
   "execution_count": 7,
   "metadata": {},
   "outputs": [
    {
     "data": {
      "text/html": [
       "<div>\n",
       "<style scoped>\n",
       "    .dataframe tbody tr th:only-of-type {\n",
       "        vertical-align: middle;\n",
       "    }\n",
       "\n",
       "    .dataframe tbody tr th {\n",
       "        vertical-align: top;\n",
       "    }\n",
       "\n",
       "    .dataframe thead th {\n",
       "        text-align: right;\n",
       "    }\n",
       "</style>\n",
       "<table border=\"1\" class=\"dataframe\">\n",
       "  <thead>\n",
       "    <tr style=\"text-align: right;\">\n",
       "      <th></th>\n",
       "      <th>userId</th>\n",
       "      <th>movieId</th>\n",
       "      <th>rating</th>\n",
       "      <th>timestamp</th>\n",
       "    </tr>\n",
       "  </thead>\n",
       "  <tbody>\n",
       "    <tr>\n",
       "      <th>41008</th>\n",
       "      <td>275</td>\n",
       "      <td>615</td>\n",
       "      <td>5.0</td>\n",
       "      <td>858350384</td>\n",
       "    </tr>\n",
       "    <tr>\n",
       "      <th>94274</th>\n",
       "      <td>598</td>\n",
       "      <td>4970</td>\n",
       "      <td>2.5</td>\n",
       "      <td>1519235950</td>\n",
       "    </tr>\n",
       "    <tr>\n",
       "      <th>77380</th>\n",
       "      <td>482</td>\n",
       "      <td>1008</td>\n",
       "      <td>2.5</td>\n",
       "      <td>1215895327</td>\n",
       "    </tr>\n",
       "    <tr>\n",
       "      <th>29744</th>\n",
       "      <td>201</td>\n",
       "      <td>2576</td>\n",
       "      <td>3.0</td>\n",
       "      <td>974924072</td>\n",
       "    </tr>\n",
       "    <tr>\n",
       "      <th>40462</th>\n",
       "      <td>273</td>\n",
       "      <td>6763</td>\n",
       "      <td>4.0</td>\n",
       "      <td>1296947017</td>\n",
       "    </tr>\n",
       "  </tbody>\n",
       "</table>\n",
       "</div>"
      ],
      "text/plain": [
       "       userId  movieId  rating   timestamp\n",
       "41008     275      615     5.0   858350384\n",
       "94274     598     4970     2.5  1519235950\n",
       "77380     482     1008     2.5  1215895327\n",
       "29744     201     2576     3.0   974924072\n",
       "40462     273     6763     4.0  1296947017"
      ]
     },
     "execution_count": 7,
     "metadata": {},
     "output_type": "execute_result"
    }
   ],
   "source": [
    "test.head()"
   ]
  },
  {
   "cell_type": "markdown",
   "metadata": {},
   "source": [
    "Matrix factorisation\n",
    "One popular recommender systems approach is called Matrix Factorisation. It works on the principle that we can learn a low-dimensional representation (embedding) of user and movie. For example, for each movie, we can have how much action it has, how long it is, and so on. For each user, we can encode how much they like action, or how much they like long movies, etc. Thus, we can combine the user and the movie embeddings to estimate the ratings on unseen movies. This approach can also be viewed as: given a matrix $(A [M X N])$ containing users and movies, we want to estimate low dimensional matrices $(W [M X k] and H [M X k])$, such that: $A≈W.HT$"
   ]
  },
  {
   "cell_type": "code",
   "execution_count": 8,
   "metadata": {},
   "outputs": [
    {
     "name": "stderr",
     "output_type": "stream",
     "text": [
      "Using TensorFlow backend.\n"
     ]
    }
   ],
   "source": [
    "import keras\n",
    "from IPython.display import SVG\n",
    "from keras.optimizers import Adam\n",
    "from keras.utils.vis_utils import model_to_dot\n",
    "n_users, n_movies = len(df.userId.unique()), len(df.movieId.unique())\n",
    "n_latent_factors = 3"
   ]
  },
  {
   "cell_type": "markdown",
   "metadata": {},
   "source": [
    "The key thing is to learn an embedding for movies and users, and then combine them using the dot product! For estimating the rating, for each user, movie pair of interest, we'd take the dot product of the respective user and item embedding. As an example, if we have 2 dimensions in our user and item embedding, which say correspond to [how much user likes action, how much user likes long movies], and the item embedding is [how much action is in the movie, how long is the movie]. Then, we can predict for a user u, and movie m as how much u likes action × how much action is there in m + how much u likes long movies × how long is m.\n",
    "\n",
    "Our model would optimise the emebedding such that we minimise the mean squared error on the ratings from the train set."
   ]
  },
  {
   "cell_type": "code",
   "execution_count": 9,
   "metadata": {},
   "outputs": [],
   "source": [
    "movie_input = keras.layers.Input(shape=[1],name='Item')\n",
    "movie_embedding = keras.layers.Embedding(n_movies + 1, n_latent_factors, name='Movie-Embedding')(movie_input)\n",
    "movie_vec = keras.layers.Flatten(name='FlattenMovies')(movie_embedding)\n",
    "\n",
    "user_input = keras.layers.Input(shape=[1],name='User')\n",
    "user_vec = keras.layers.Flatten(name='FlattenUsers')(keras.layers.Embedding(n_users + 1, n_latent_factors,name='User-Embedding')(user_input))\n",
    "\n",
    "movie_vec.shape\n",
    "prod = keras.layers.dot([movie_vec, user_vec], axes=-1, normalize=False)\n",
    "model = keras.Model([user_input, movie_input], prod)\n",
    "model.compile('adam', 'mean_squared_error')"
   ]
  },
  {
   "cell_type": "code",
   "execution_count": 10,
   "metadata": {},
   "outputs": [
    {
     "data": {
      "image/svg+xml": [
       "<svg height=\"304pt\" viewBox=\"0.00 0.00 684.00 304.00\" width=\"684pt\" xmlns=\"http://www.w3.org/2000/svg\" xmlns:xlink=\"http://www.w3.org/1999/xlink\">\n",
       "<g class=\"graph\" id=\"graph0\" transform=\"scale(1 1) rotate(0) translate(4 300)\">\n",
       "<title>G</title>\n",
       "<polygon fill=\"#ffffff\" points=\"-4,4 -4,-300 680,-300 680,4 -4,4\" stroke=\"transparent\"/>\n",
       "<!-- 112353684616 -->\n",
       "<g class=\"node\" id=\"node1\">\n",
       "<title>112353684616</title>\n",
       "<polygon fill=\"none\" points=\"48,-249.5 48,-295.5 286,-295.5 286,-249.5 48,-249.5\" stroke=\"#000000\"/>\n",
       "<text fill=\"#000000\" font-family=\"Times,serif\" font-size=\"14.00\" text-anchor=\"middle\" x=\"104\" y=\"-268.8\">Item: InputLayer</text>\n",
       "<polyline fill=\"none\" points=\"160,-249.5 160,-295.5 \" stroke=\"#000000\"/>\n",
       "<text fill=\"#000000\" font-family=\"Times,serif\" font-size=\"14.00\" text-anchor=\"middle\" x=\"188\" y=\"-280.3\">input:</text>\n",
       "<polyline fill=\"none\" points=\"160,-272.5 216,-272.5 \" stroke=\"#000000\"/>\n",
       "<text fill=\"#000000\" font-family=\"Times,serif\" font-size=\"14.00\" text-anchor=\"middle\" x=\"188\" y=\"-257.3\">output:</text>\n",
       "<polyline fill=\"none\" points=\"216,-249.5 216,-295.5 \" stroke=\"#000000\"/>\n",
       "<text fill=\"#000000\" font-family=\"Times,serif\" font-size=\"14.00\" text-anchor=\"middle\" x=\"251\" y=\"-280.3\">(None, 1)</text>\n",
       "<polyline fill=\"none\" points=\"216,-272.5 286,-272.5 \" stroke=\"#000000\"/>\n",
       "<text fill=\"#000000\" font-family=\"Times,serif\" font-size=\"14.00\" text-anchor=\"middle\" x=\"251\" y=\"-257.3\">(None, 1)</text>\n",
       "</g>\n",
       "<!-- 112353684728 -->\n",
       "<g class=\"node\" id=\"node3\">\n",
       "<title>112353684728</title>\n",
       "<polygon fill=\"none\" points=\"0,-166.5 0,-212.5 334,-212.5 334,-166.5 0,-166.5\" stroke=\"#000000\"/>\n",
       "<text fill=\"#000000\" font-family=\"Times,serif\" font-size=\"14.00\" text-anchor=\"middle\" x=\"97\" y=\"-185.8\">Movie-Embedding: Embedding</text>\n",
       "<polyline fill=\"none\" points=\"194,-166.5 194,-212.5 \" stroke=\"#000000\"/>\n",
       "<text fill=\"#000000\" font-family=\"Times,serif\" font-size=\"14.00\" text-anchor=\"middle\" x=\"222\" y=\"-197.3\">input:</text>\n",
       "<polyline fill=\"none\" points=\"194,-189.5 250,-189.5 \" stroke=\"#000000\"/>\n",
       "<text fill=\"#000000\" font-family=\"Times,serif\" font-size=\"14.00\" text-anchor=\"middle\" x=\"222\" y=\"-174.3\">output:</text>\n",
       "<polyline fill=\"none\" points=\"250,-166.5 250,-212.5 \" stroke=\"#000000\"/>\n",
       "<text fill=\"#000000\" font-family=\"Times,serif\" font-size=\"14.00\" text-anchor=\"middle\" x=\"292\" y=\"-197.3\">(None, 1)</text>\n",
       "<polyline fill=\"none\" points=\"250,-189.5 334,-189.5 \" stroke=\"#000000\"/>\n",
       "<text fill=\"#000000\" font-family=\"Times,serif\" font-size=\"14.00\" text-anchor=\"middle\" x=\"292\" y=\"-174.3\">(None, 1, 3)</text>\n",
       "</g>\n",
       "<!-- 112353684616&#45;&gt;112353684728 -->\n",
       "<g class=\"edge\" id=\"edge1\">\n",
       "<title>112353684616-&gt;112353684728</title>\n",
       "<path d=\"M167,-249.3799C167,-241.1745 167,-231.7679 167,-222.8786\" fill=\"none\" stroke=\"#000000\"/>\n",
       "<polygon fill=\"#000000\" points=\"170.5001,-222.784 167,-212.784 163.5001,-222.784 170.5001,-222.784\" stroke=\"#000000\"/>\n",
       "</g>\n",
       "<!-- 112353684952 -->\n",
       "<g class=\"node\" id=\"node2\">\n",
       "<title>112353684952</title>\n",
       "<polygon fill=\"none\" points=\"394.5,-249.5 394.5,-295.5 633.5,-295.5 633.5,-249.5 394.5,-249.5\" stroke=\"#000000\"/>\n",
       "<text fill=\"#000000\" font-family=\"Times,serif\" font-size=\"14.00\" text-anchor=\"middle\" x=\"451\" y=\"-268.8\">User: InputLayer</text>\n",
       "<polyline fill=\"none\" points=\"507.5,-249.5 507.5,-295.5 \" stroke=\"#000000\"/>\n",
       "<text fill=\"#000000\" font-family=\"Times,serif\" font-size=\"14.00\" text-anchor=\"middle\" x=\"535.5\" y=\"-280.3\">input:</text>\n",
       "<polyline fill=\"none\" points=\"507.5,-272.5 563.5,-272.5 \" stroke=\"#000000\"/>\n",
       "<text fill=\"#000000\" font-family=\"Times,serif\" font-size=\"14.00\" text-anchor=\"middle\" x=\"535.5\" y=\"-257.3\">output:</text>\n",
       "<polyline fill=\"none\" points=\"563.5,-249.5 563.5,-295.5 \" stroke=\"#000000\"/>\n",
       "<text fill=\"#000000\" font-family=\"Times,serif\" font-size=\"14.00\" text-anchor=\"middle\" x=\"598.5\" y=\"-280.3\">(None, 1)</text>\n",
       "<polyline fill=\"none\" points=\"563.5,-272.5 633.5,-272.5 \" stroke=\"#000000\"/>\n",
       "<text fill=\"#000000\" font-family=\"Times,serif\" font-size=\"14.00\" text-anchor=\"middle\" x=\"598.5\" y=\"-257.3\">(None, 1)</text>\n",
       "</g>\n",
       "<!-- 112355937416 -->\n",
       "<g class=\"node\" id=\"node4\">\n",
       "<title>112355937416</title>\n",
       "<polygon fill=\"none\" points=\"352,-166.5 352,-212.5 676,-212.5 676,-166.5 352,-166.5\" stroke=\"#000000\"/>\n",
       "<text fill=\"#000000\" font-family=\"Times,serif\" font-size=\"14.00\" text-anchor=\"middle\" x=\"444\" y=\"-185.8\">User-Embedding: Embedding</text>\n",
       "<polyline fill=\"none\" points=\"536,-166.5 536,-212.5 \" stroke=\"#000000\"/>\n",
       "<text fill=\"#000000\" font-family=\"Times,serif\" font-size=\"14.00\" text-anchor=\"middle\" x=\"564\" y=\"-197.3\">input:</text>\n",
       "<polyline fill=\"none\" points=\"536,-189.5 592,-189.5 \" stroke=\"#000000\"/>\n",
       "<text fill=\"#000000\" font-family=\"Times,serif\" font-size=\"14.00\" text-anchor=\"middle\" x=\"564\" y=\"-174.3\">output:</text>\n",
       "<polyline fill=\"none\" points=\"592,-166.5 592,-212.5 \" stroke=\"#000000\"/>\n",
       "<text fill=\"#000000\" font-family=\"Times,serif\" font-size=\"14.00\" text-anchor=\"middle\" x=\"634\" y=\"-197.3\">(None, 1)</text>\n",
       "<polyline fill=\"none\" points=\"592,-189.5 676,-189.5 \" stroke=\"#000000\"/>\n",
       "<text fill=\"#000000\" font-family=\"Times,serif\" font-size=\"14.00\" text-anchor=\"middle\" x=\"634\" y=\"-174.3\">(None, 1, 3)</text>\n",
       "</g>\n",
       "<!-- 112353684952&#45;&gt;112355937416 -->\n",
       "<g class=\"edge\" id=\"edge2\">\n",
       "<title>112353684952-&gt;112355937416</title>\n",
       "<path d=\"M514,-249.3799C514,-241.1745 514,-231.7679 514,-222.8786\" fill=\"none\" stroke=\"#000000\"/>\n",
       "<polygon fill=\"#000000\" points=\"517.5001,-222.784 514,-212.784 510.5001,-222.784 517.5001,-222.784\" stroke=\"#000000\"/>\n",
       "</g>\n",
       "<!-- 112353685456 -->\n",
       "<g class=\"node\" id=\"node5\">\n",
       "<title>112353685456</title>\n",
       "<polygon fill=\"none\" points=\"50,-83.5 50,-129.5 334,-129.5 334,-83.5 50,-83.5\" stroke=\"#000000\"/>\n",
       "<text fill=\"#000000\" font-family=\"Times,serif\" font-size=\"14.00\" text-anchor=\"middle\" x=\"122\" y=\"-102.8\">FlattenMovies: Flatten</text>\n",
       "<polyline fill=\"none\" points=\"194,-83.5 194,-129.5 \" stroke=\"#000000\"/>\n",
       "<text fill=\"#000000\" font-family=\"Times,serif\" font-size=\"14.00\" text-anchor=\"middle\" x=\"222\" y=\"-114.3\">input:</text>\n",
       "<polyline fill=\"none\" points=\"194,-106.5 250,-106.5 \" stroke=\"#000000\"/>\n",
       "<text fill=\"#000000\" font-family=\"Times,serif\" font-size=\"14.00\" text-anchor=\"middle\" x=\"222\" y=\"-91.3\">output:</text>\n",
       "<polyline fill=\"none\" points=\"250,-83.5 250,-129.5 \" stroke=\"#000000\"/>\n",
       "<text fill=\"#000000\" font-family=\"Times,serif\" font-size=\"14.00\" text-anchor=\"middle\" x=\"292\" y=\"-114.3\">(None, 1, 3)</text>\n",
       "<polyline fill=\"none\" points=\"250,-106.5 334,-106.5 \" stroke=\"#000000\"/>\n",
       "<text fill=\"#000000\" font-family=\"Times,serif\" font-size=\"14.00\" text-anchor=\"middle\" x=\"292\" y=\"-91.3\">(None, 3)</text>\n",
       "</g>\n",
       "<!-- 112353684728&#45;&gt;112353685456 -->\n",
       "<g class=\"edge\" id=\"edge3\">\n",
       "<title>112353684728-&gt;112353685456</title>\n",
       "<path d=\"M173.9639,-166.3799C176.4622,-158.0854 179.3303,-148.5633 182.0335,-139.5889\" fill=\"none\" stroke=\"#000000\"/>\n",
       "<polygon fill=\"#000000\" points=\"185.4539,-140.3685 184.9867,-129.784 178.7513,-138.3496 185.4539,-140.3685\" stroke=\"#000000\"/>\n",
       "</g>\n",
       "<!-- 112184315800 -->\n",
       "<g class=\"node\" id=\"node6\">\n",
       "<title>112184315800</title>\n",
       "<polygon fill=\"none\" points=\"364,-83.5 364,-129.5 638,-129.5 638,-83.5 364,-83.5\" stroke=\"#000000\"/>\n",
       "<text fill=\"#000000\" font-family=\"Times,serif\" font-size=\"14.00\" text-anchor=\"middle\" x=\"431\" y=\"-102.8\">FlattenUsers: Flatten</text>\n",
       "<polyline fill=\"none\" points=\"498,-83.5 498,-129.5 \" stroke=\"#000000\"/>\n",
       "<text fill=\"#000000\" font-family=\"Times,serif\" font-size=\"14.00\" text-anchor=\"middle\" x=\"526\" y=\"-114.3\">input:</text>\n",
       "<polyline fill=\"none\" points=\"498,-106.5 554,-106.5 \" stroke=\"#000000\"/>\n",
       "<text fill=\"#000000\" font-family=\"Times,serif\" font-size=\"14.00\" text-anchor=\"middle\" x=\"526\" y=\"-91.3\">output:</text>\n",
       "<polyline fill=\"none\" points=\"554,-83.5 554,-129.5 \" stroke=\"#000000\"/>\n",
       "<text fill=\"#000000\" font-family=\"Times,serif\" font-size=\"14.00\" text-anchor=\"middle\" x=\"596\" y=\"-114.3\">(None, 1, 3)</text>\n",
       "<polyline fill=\"none\" points=\"554,-106.5 638,-106.5 \" stroke=\"#000000\"/>\n",
       "<text fill=\"#000000\" font-family=\"Times,serif\" font-size=\"14.00\" text-anchor=\"middle\" x=\"596\" y=\"-91.3\">(None, 3)</text>\n",
       "</g>\n",
       "<!-- 112355937416&#45;&gt;112184315800 -->\n",
       "<g class=\"edge\" id=\"edge4\">\n",
       "<title>112355937416-&gt;112184315800</title>\n",
       "<path d=\"M510.3788,-166.3799C509.0936,-158.1745 507.6203,-148.7679 506.228,-139.8786\" fill=\"none\" stroke=\"#000000\"/>\n",
       "<polygon fill=\"#000000\" points=\"509.6522,-139.1219 504.6469,-129.784 502.7365,-140.2052 509.6522,-139.1219\" stroke=\"#000000\"/>\n",
       "</g>\n",
       "<!-- 112355937360 -->\n",
       "<g class=\"node\" id=\"node7\">\n",
       "<title>112355937360</title>\n",
       "<polygon fill=\"none\" points=\"203.5,-.5 203.5,-46.5 476.5,-46.5 476.5,-.5 203.5,-.5\" stroke=\"#000000\"/>\n",
       "<text fill=\"#000000\" font-family=\"Times,serif\" font-size=\"14.00\" text-anchor=\"middle\" x=\"242\" y=\"-19.8\">dot_1: Dot</text>\n",
       "<polyline fill=\"none\" points=\"280.5,-.5 280.5,-46.5 \" stroke=\"#000000\"/>\n",
       "<text fill=\"#000000\" font-family=\"Times,serif\" font-size=\"14.00\" text-anchor=\"middle\" x=\"308.5\" y=\"-31.3\">input:</text>\n",
       "<polyline fill=\"none\" points=\"280.5,-23.5 336.5,-23.5 \" stroke=\"#000000\"/>\n",
       "<text fill=\"#000000\" font-family=\"Times,serif\" font-size=\"14.00\" text-anchor=\"middle\" x=\"308.5\" y=\"-8.3\">output:</text>\n",
       "<polyline fill=\"none\" points=\"336.5,-.5 336.5,-46.5 \" stroke=\"#000000\"/>\n",
       "<text fill=\"#000000\" font-family=\"Times,serif\" font-size=\"14.00\" text-anchor=\"middle\" x=\"406.5\" y=\"-31.3\">[(None, 3), (None, 3)]</text>\n",
       "<polyline fill=\"none\" points=\"336.5,-23.5 476.5,-23.5 \" stroke=\"#000000\"/>\n",
       "<text fill=\"#000000\" font-family=\"Times,serif\" font-size=\"14.00\" text-anchor=\"middle\" x=\"406.5\" y=\"-8.3\">(None, 1)</text>\n",
       "</g>\n",
       "<!-- 112353685456&#45;&gt;112355937360 -->\n",
       "<g class=\"edge\" id=\"edge5\">\n",
       "<title>112353685456-&gt;112355937360</title>\n",
       "<path d=\"M233.2263,-83.3799C250.7936,-73.5279 271.449,-61.9442 289.8879,-51.6034\" fill=\"none\" stroke=\"#000000\"/>\n",
       "<polygon fill=\"#000000\" points=\"291.7284,-54.5841 298.7384,-46.6399 288.3043,-48.4787 291.7284,-54.5841\" stroke=\"#000000\"/>\n",
       "</g>\n",
       "<!-- 112184315800&#45;&gt;112355937360 -->\n",
       "<g class=\"edge\" id=\"edge6\">\n",
       "<title>112184315800-&gt;112355937360</title>\n",
       "<path d=\"M456.1525,-83.3799C436.8684,-73.4384 414.1636,-61.7334 393.9674,-51.3217\" fill=\"none\" stroke=\"#000000\"/>\n",
       "<polygon fill=\"#000000\" points=\"395.3781,-48.1113 384.8859,-46.6399 392.1705,-54.3331 395.3781,-48.1113\" stroke=\"#000000\"/>\n",
       "</g>\n",
       "</g>\n",
       "</svg>"
      ],
      "text/plain": [
       "<IPython.core.display.SVG object>"
      ]
     },
     "execution_count": 10,
     "metadata": {},
     "output_type": "execute_result"
    }
   ],
   "source": [
    "SVG(model_to_dot(model,  show_shapes=True, show_layer_names=True, rankdir='HB').create(prog='dot', format='svg'))"
   ]
  },
  {
   "cell_type": "markdown",
   "metadata": {},
   "source": [
    "We can see that in the dot layer, we take the dot product of the user and the item embeddings to obtain the rating.\n",
    "\n",
    "We can also summarise our model as follows:"
   ]
  },
  {
   "cell_type": "code",
   "execution_count": 11,
   "metadata": {},
   "outputs": [
    {
     "name": "stdout",
     "output_type": "stream",
     "text": [
      "__________________________________________________________________________________________________\n",
      "Layer (type)                    Output Shape         Param #     Connected to                     \n",
      "==================================================================================================\n",
      "Item (InputLayer)               (None, 1)            0                                            \n",
      "__________________________________________________________________________________________________\n",
      "User (InputLayer)               (None, 1)            0                                            \n",
      "__________________________________________________________________________________________________\n",
      "Movie-Embedding (Embedding)     (None, 1, 3)         29175       Item[0][0]                       \n",
      "__________________________________________________________________________________________________\n",
      "User-Embedding (Embedding)      (None, 1, 3)         1833        User[0][0]                       \n",
      "__________________________________________________________________________________________________\n",
      "FlattenMovies (Flatten)         (None, 3)            0           Movie-Embedding[0][0]            \n",
      "__________________________________________________________________________________________________\n",
      "FlattenUsers (Flatten)          (None, 3)            0           User-Embedding[0][0]             \n",
      "__________________________________________________________________________________________________\n",
      "dot_1 (Dot)                     (None, 1)            0           FlattenMovies[0][0]              \n",
      "                                                                 FlattenUsers[0][0]               \n",
      "==================================================================================================\n",
      "Total params: 31,008\n",
      "Trainable params: 31,008\n",
      "Non-trainable params: 0\n",
      "__________________________________________________________________________________________________\n"
     ]
    }
   ],
   "source": [
    "model.summary()"
   ]
  },
  {
   "cell_type": "code",
   "execution_count": 12,
   "metadata": {},
   "outputs": [],
   "source": [
    "history = model.fit([train.userId, train.movieId], train.rating, epochs=100, verbose=0)"
   ]
  },
  {
   "cell_type": "code",
   "execution_count": 14,
   "metadata": {},
   "outputs": [
    {
     "data": {
      "text/plain": [
       "Text(0,0.5,'Train Error')"
      ]
     },
     "execution_count": 14,
     "metadata": {},
     "output_type": "execute_result"
    },
    {
     "data": {
      "image/png": "[encoded data removed]",
      "text/plain": [
       "<Figure size 432x288 with 1 Axes>"
      ]
     },
     "metadata": {},
     "output_type": "display_data"
    }
   ],
   "source": [
    "import matplotlib.pyplot as plt\n",
    "pd.Series(history.history['loss']).plot(logy=True)\n",
    "plt.xlabel(\"Epoch\")\n",
    "plt.ylabel(\"Train Error\")"
   ]
  },
  {
   "cell_type": "markdown",
   "metadata": {},
   "source": [
    "### Prediction\n",
    "post-processing step to round off our prediction to the nearest integer. This is usually not done, and thus just a whimsical step, since the training ratings are all integers! There are better ways to encode this intger requirement (one-hot encoding!)."
   ]
  },
  {
   "cell_type": "code",
   "execution_count": 17,
   "metadata": {},
   "outputs": [],
   "source": [
    "import numpy as np\n",
    "y_hat = np.round(model.predict([test.userId, test.movieId]),0)\n",
    "y_true = test.rating"
   ]
  },
  {
   "cell_type": "code",
   "execution_count": 18,
   "metadata": {},
   "outputs": [
    {
     "data": {
      "text/plain": [
       "0.8071697738992464"
      ]
     },
     "execution_count": 18,
     "metadata": {},
     "output_type": "execute_result"
    }
   ],
   "source": [
    "from sklearn.metrics import mean_absolute_error\n",
    "mean_absolute_error(y_true, y_hat)"
   ]
  },
  {
   "cell_type": "markdown",
   "metadata": {},
   "source": [
    "### We got MAE of 0.80"
   ]
  },
  {
   "cell_type": "markdown",
   "metadata": {},
   "source": [
    "#### Extracting the learnt embeddings\n",
    "We can extract the learnt movie and item embeddings as follows:"
   ]
  },
  {
   "cell_type": "code",
   "execution_count": 20,
   "metadata": {},
   "outputs": [
    {
     "data": {
      "text/html": [
       "<div>\n",
       "<style scoped>\n",
       "    .dataframe tbody tr th:only-of-type {\n",
       "        vertical-align: middle;\n",
       "    }\n",
       "\n",
       "    .dataframe tbody tr th {\n",
       "        vertical-align: top;\n",
       "    }\n",
       "\n",
       "    .dataframe thead th {\n",
       "        text-align: right;\n",
       "    }\n",
       "</style>\n",
       "<table border=\"1\" class=\"dataframe\">\n",
       "  <thead>\n",
       "    <tr style=\"text-align: right;\">\n",
       "      <th></th>\n",
       "      <th>0</th>\n",
       "      <th>1</th>\n",
       "      <th>2</th>\n",
       "    </tr>\n",
       "  </thead>\n",
       "  <tbody>\n",
       "    <tr>\n",
       "      <th>count</th>\n",
       "      <td>9725.000000</td>\n",
       "      <td>9725.000000</td>\n",
       "      <td>9725.000000</td>\n",
       "    </tr>\n",
       "    <tr>\n",
       "      <th>mean</th>\n",
       "      <td>0.621525</td>\n",
       "      <td>-0.613947</td>\n",
       "      <td>0.607931</td>\n",
       "    </tr>\n",
       "    <tr>\n",
       "      <th>std</th>\n",
       "      <td>0.376859</td>\n",
       "      <td>0.329957</td>\n",
       "      <td>0.323711</td>\n",
       "    </tr>\n",
       "    <tr>\n",
       "      <th>min</th>\n",
       "      <td>-2.505982</td>\n",
       "      <td>-2.027589</td>\n",
       "      <td>-2.160055</td>\n",
       "    </tr>\n",
       "    <tr>\n",
       "      <th>25%</th>\n",
       "      <td>0.403554</td>\n",
       "      <td>-0.831288</td>\n",
       "      <td>0.415429</td>\n",
       "    </tr>\n",
       "    <tr>\n",
       "      <th>50%</th>\n",
       "      <td>0.660320</td>\n",
       "      <td>-0.659402</td>\n",
       "      <td>0.650704</td>\n",
       "    </tr>\n",
       "    <tr>\n",
       "      <th>75%</th>\n",
       "      <td>0.845942</td>\n",
       "      <td>-0.421031</td>\n",
       "      <td>0.818681</td>\n",
       "    </tr>\n",
       "    <tr>\n",
       "      <th>max</th>\n",
       "      <td>3.388693</td>\n",
       "      <td>0.889043</td>\n",
       "      <td>1.949376</td>\n",
       "    </tr>\n",
       "  </tbody>\n",
       "</table>\n",
       "</div>"
      ],
      "text/plain": [
       "                 0            1            2\n",
       "count  9725.000000  9725.000000  9725.000000\n",
       "mean      0.621525    -0.613947     0.607931\n",
       "std       0.376859     0.329957     0.323711\n",
       "min      -2.505982    -2.027589    -2.160055\n",
       "25%       0.403554    -0.831288     0.415429\n",
       "50%       0.660320    -0.659402     0.650704\n",
       "75%       0.845942    -0.421031     0.818681\n",
       "max       3.388693     0.889043     1.949376"
      ]
     },
     "execution_count": 20,
     "metadata": {},
     "output_type": "execute_result"
    }
   ],
   "source": [
    "movie_embedding_learnt = model.get_layer(name='Movie-Embedding').get_weights()[0]\n",
    "pd.DataFrame(movie_embedding_learnt).describe()"
   ]
  },
  {
   "cell_type": "code",
   "execution_count": 21,
   "metadata": {},
   "outputs": [
    {
     "data": {
      "text/html": [
       "<div>\n",
       "<style scoped>\n",
       "    .dataframe tbody tr th:only-of-type {\n",
       "        vertical-align: middle;\n",
       "    }\n",
       "\n",
       "    .dataframe tbody tr th {\n",
       "        vertical-align: top;\n",
       "    }\n",
       "\n",
       "    .dataframe thead th {\n",
       "        text-align: right;\n",
       "    }\n",
       "</style>\n",
       "<table border=\"1\" class=\"dataframe\">\n",
       "  <thead>\n",
       "    <tr style=\"text-align: right;\">\n",
       "      <th></th>\n",
       "      <th>0</th>\n",
       "      <th>1</th>\n",
       "      <th>2</th>\n",
       "    </tr>\n",
       "  </thead>\n",
       "  <tbody>\n",
       "    <tr>\n",
       "      <th>count</th>\n",
       "      <td>611.000000</td>\n",
       "      <td>611.000000</td>\n",
       "      <td>611.000000</td>\n",
       "    </tr>\n",
       "    <tr>\n",
       "      <th>mean</th>\n",
       "      <td>1.680741</td>\n",
       "      <td>-1.746402</td>\n",
       "      <td>1.684900</td>\n",
       "    </tr>\n",
       "    <tr>\n",
       "      <th>std</th>\n",
       "      <td>0.902178</td>\n",
       "      <td>0.653797</td>\n",
       "      <td>0.652417</td>\n",
       "    </tr>\n",
       "    <tr>\n",
       "      <th>min</th>\n",
       "      <td>-1.748080</td>\n",
       "      <td>-3.898040</td>\n",
       "      <td>-0.857407</td>\n",
       "    </tr>\n",
       "    <tr>\n",
       "      <th>25%</th>\n",
       "      <td>1.137757</td>\n",
       "      <td>-2.152076</td>\n",
       "      <td>1.311027</td>\n",
       "    </tr>\n",
       "    <tr>\n",
       "      <th>50%</th>\n",
       "      <td>1.651160</td>\n",
       "      <td>-1.800228</td>\n",
       "      <td>1.737987</td>\n",
       "    </tr>\n",
       "    <tr>\n",
       "      <th>75%</th>\n",
       "      <td>2.244645</td>\n",
       "      <td>-1.395046</td>\n",
       "      <td>2.090224</td>\n",
       "    </tr>\n",
       "    <tr>\n",
       "      <th>max</th>\n",
       "      <td>4.609274</td>\n",
       "      <td>1.703610</td>\n",
       "      <td>4.374075</td>\n",
       "    </tr>\n",
       "  </tbody>\n",
       "</table>\n",
       "</div>"
      ],
      "text/plain": [
       "                0           1           2\n",
       "count  611.000000  611.000000  611.000000\n",
       "mean     1.680741   -1.746402    1.684900\n",
       "std      0.902178    0.653797    0.652417\n",
       "min     -1.748080   -3.898040   -0.857407\n",
       "25%      1.137757   -2.152076    1.311027\n",
       "50%      1.651160   -1.800228    1.737987\n",
       "75%      2.244645   -1.395046    2.090224\n",
       "max      4.609274    1.703610    4.374075"
      ]
     },
     "execution_count": 21,
     "metadata": {},
     "output_type": "execute_result"
    }
   ],
   "source": [
    "user_embedding_learnt = model.get_layer(name='User-Embedding').get_weights()[0]\n",
    "pd.DataFrame(user_embedding_learnt).describe()"
   ]
  },
  {
   "cell_type": "markdown",
   "metadata": {},
   "source": [
    "We can see that both the user and the item embeddings have **negative elements**. There are some applications which require that the learnt embeddings be non-negative. This approach is also called non-negative matrix factorisation(NNMF)."
   ]
  },
  {
   "cell_type": "code",
   "execution_count": null,
   "metadata": {},
   "outputs": [],
   "source": []
  }
 ],
 "metadata": {
  "kernelspec": {
   "display_name": "Python 3",
   "language": "python",
   "name": "python3"
  },
  "language_info": {
   "codemirror_mode": {
    "name": "ipython",
    "version": 3
   },
   "file_extension": ".py",
   "mimetype": "text/x-python",
   "name": "python",
   "nbconvert_exporter": "python",
   "pygments_lexer": "ipython3",
   "version": "3.6.7"
  }
 },
 "nbformat": 4,
 "nbformat_minor": 2
}
